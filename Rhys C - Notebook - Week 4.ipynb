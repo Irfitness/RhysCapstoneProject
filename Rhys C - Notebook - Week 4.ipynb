{
    "cells": [
        {
            "cell_type": "markdown",
            "metadata": {},
            "source": "# Introduction/Business Problem"
        },
        {
            "cell_type": "markdown",
            "metadata": {},
            "source": "Week 1- Rhys"
        },
        {
            "cell_type": "markdown",
            "metadata": {},
            "source": "Analyze the most popular stores according to the number of Foursquare check-ins.\n\nThen investigate the neighborhoods that are missing this kind of stores which could be a new opportunity."
        },
        {
            "cell_type": "code",
            "execution_count": null,
            "metadata": {},
            "outputs": [],
            "source": ""
        }
    ],
    "metadata": {
        "kernelspec": {
            "display_name": "Python 3.6",
            "language": "python",
            "name": "python3"
        },
        "language_info": {
            "codemirror_mode": {
                "name": "ipython",
                "version": 3
            },
            "file_extension": ".py",
            "mimetype": "text/x-python",
            "name": "python",
            "nbconvert_exporter": "python",
            "pygments_lexer": "ipython3",
            "version": "3.6.9"
        }
    },
    "nbformat": 4,
    "nbformat_minor": 1
}